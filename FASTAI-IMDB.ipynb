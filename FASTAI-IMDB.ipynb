{
 "cells": [
  {
   "cell_type": "code",
   "execution_count": null,
   "id": "29217b93",
   "metadata": {},
   "outputs": [],
   "source": [
    "from fastai.text.all import *"
   ]
  },
  {
   "cell_type": "code",
   "execution_count": null,
   "id": "187cc03c",
   "metadata": {},
   "outputs": [],
   "source": [
    "path = untar_data(URLs.IMDB)"
   ]
  },
  {
   "cell_type": "code",
   "execution_count": null,
   "id": "35cdabba",
   "metadata": {},
   "outputs": [],
   "source": [
    "dls = TextDataLoaders.from_folder(path, valid='test')"
   ]
  },
  {
   "cell_type": "code",
   "execution_count": null,
   "id": "bcc6d4c2",
   "metadata": {},
   "outputs": [],
   "source": [
    "len(dls.train_ds), len(dls.valid_ds)"
   ]
  },
  {
   "cell_type": "code",
   "execution_count": null,
   "id": "dfd157bc",
   "metadata": {},
   "outputs": [],
   "source": [
    "dls.show_batch(max_n=3)"
   ]
  },
  {
   "cell_type": "code",
   "execution_count": null,
   "id": "abb0b34f",
   "metadata": {},
   "outputs": [],
   "source": [
    "learn = text_classifier_learner(dls, AWD_LSTM, drop_mult=0.5, metrics=accuracy)"
   ]
  },
  {
   "cell_type": "code",
   "execution_count": null,
   "id": "a9116f34",
   "metadata": {},
   "outputs": [],
   "source": [
    "learn.fine_tune(1)"
   ]
  },
  {
   "cell_type": "code",
   "execution_count": null,
   "id": "5b50c9f9",
   "metadata": {},
   "outputs": [],
   "source": [
    "inputs = [\"This movie was fantastic!\"]\n",
    "predictions = learn.predict(inputs)"
   ]
  },
  {
   "cell_type": "code",
   "execution_count": null,
   "id": "8bbcf0b9",
   "metadata": {},
   "outputs": [],
   "source": [
    "for i, text in enumerate(inputs):\n",
    "    print(\"Metin:\", text)\n",
    "    print(\"Tahmin:\", predictions[i][0])\n",
    "    print()"
   ]
  },
  {
   "cell_type": "code",
   "execution_count": null,
   "id": "45922063",
   "metadata": {},
   "outputs": [],
   "source": [
    "learn.path = Path(\".\")\n",
    "learn.save(\"imdb_model\")\n",
    "#learn = load_learner('models/imdb_model.pth')"
   ]
  },
  {
   "cell_type": "code",
   "execution_count": null,
   "id": "4f81a579",
   "metadata": {},
   "outputs": [],
   "source": []
  }
 ],
 "metadata": {
  "kernelspec": {
   "display_name": "Python 3 (ipykernel)",
   "language": "python",
   "name": "python3"
  },
  "language_info": {
   "codemirror_mode": {
    "name": "ipython",
    "version": 3
   },
   "file_extension": ".py",
   "mimetype": "text/x-python",
   "name": "python",
   "nbconvert_exporter": "python",
   "pygments_lexer": "ipython3",
   "version": "3.10.6"
  }
 },
 "nbformat": 4,
 "nbformat_minor": 5
}
